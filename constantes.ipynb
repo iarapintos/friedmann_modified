{
 "cells": [
  {
   "cell_type": "code",
   "execution_count": null,
   "id": "2e409c10",
   "metadata": {},
   "outputs": [],
   "source": [
    "from sympy import symbols, nsolve, sqrt, asinh, pi\n",
    "from sympy.abc import x, y\n",
    "\n",
    "#constantes \n",
    "from astropy import constants as ast\n",
    "\n",
    "G = ast.G.cgs.value           #constante de gravitacion universal en cgs\n",
    "c = ast.c.cgs.value           #velocidad de la luz en cgs\n",
    "ti = 1.48e12                  #tiempo en segundos de la epoca de transicion radiacion-materia\n",
    "rho_t = 100                   #densidad de radiacion en la epoca de transicion en cgs \n"
   ]
  },
  {
   "cell_type": "code",
   "execution_count": null,
   "id": "1c86815f",
   "metadata": {},
   "outputs": [],
   "source": [
    "\n",
    "# aqui x = x\n",
    "# aqui y = rhocrit \n",
    "\n",
    "# Define the equations\n",
    "eq1 = (1/2)*np.sqrt((3*c**2)/(8*pi*G*y))*(np.arcsinh(x)+x*np.sqrt(x**2+1)) - ti\n",
    "eq2 = x**2*(1+x**2)**(-3)-(rho_t/y)*(1-(rho_t/y))\n",
    "\n",
    "# Ecuaciones simbólicas\n",
    "eq1 = (1/2) * sqrt((3 * c**2) / (8 * pi * G * y)) * (asinh(x) + x * sqrt(x**2 + 1)) - ti\n",
    "eq2 = x**2 * (1 + x**2)**(-3) - (rho_t / y) * (1 - (rho_t / y))\n",
    "\n",
    "# Provide initial guesses for x and y\n",
    "initial_guess_x = 1e8\n",
    "initial_guess_y = 1e13\n",
    "\n",
    "# Use nsolve to find the numerical solution\n",
    "solution = nsolve((eq1, eq2), (x, y), (initial_guess_x, initial_guess_y))\n",
    "\n",
    "print(solution)"
   ]
  }
 ],
 "metadata": {
  "kernelspec": {
   "display_name": "Python 3",
   "language": "python",
   "name": "python3"
  },
  "language_info": {
   "name": "python",
   "version": "2.7.18"
  }
 },
 "nbformat": 4,
 "nbformat_minor": 5
}
